{
 "cells": [
  {
   "cell_type": "code",
   "execution_count": 16,
   "metadata": {},
   "outputs": [],
   "source": [
    "import numpy as np\n",
    "import torch.nn.functional as F"
   ]
  },
  {
   "cell_type": "code",
   "execution_count": 17,
   "metadata": {},
   "outputs": [],
   "source": [
    "import torch\n",
    "from torchvision import datasets, transforms\n",
    "\n",
    "transform = transforms.Compose([\n",
    "    transforms.ToTensor(),\n",
    "    transforms.Normalize( (0.5), (0.5) ),\n",
    "])\n",
    "\n",
    "trainset = datasets.MNIST('./train_MNIST_data', download=True, train=True, transform=transform)\n",
    "trainloader = torch.utils.data.DataLoader(trainset, batch_size=64, shuffle=True)"
   ]
  },
  {
   "cell_type": "code",
   "execution_count": 18,
   "metadata": {},
   "outputs": [],
   "source": [
    "testset = datasets.MNIST('./test_MNIST_data', download=True, train=False, transform=transform)\n",
    "testloader = torch.utils.data.DataLoader(testset, batch_size=64, shuffle=True)"
   ]
  },
  {
   "cell_type": "code",
   "execution_count": 19,
   "metadata": {},
   "outputs": [],
   "source": [
    "from torch import nn\n",
    "from torch import optim"
   ]
  },
  {
   "cell_type": "code",
   "execution_count": 20,
   "metadata": {},
   "outputs": [],
   "source": [
    "network = nn.Sequential(\n",
    "    nn.Linear(784, 128),\n",
    "    nn.ReLU(),\n",
    "    nn.Linear(128,64),\n",
    "    nn.ReLU(),\n",
    "    nn.Linear(64, 10),\n",
    "    nn.LogSoftmax(dim=1),\n",
    ")\n",
    "\n",
    "criterion = nn.NLLLoss()\n",
    "\n",
    "optimizer = optim.SGD(network.parameters(), lr=0.003)"
   ]
  },
  {
   "cell_type": "code",
   "execution_count": 21,
   "metadata": {},
   "outputs": [],
   "source": [
    "def train(neural_network, epochs, loader, report_every=5):\n",
    "    neural_network.train()\n",
    "    for e in range(epochs):\n",
    "        running_loss = 0\n",
    "        for images, labels in loader:\n",
    "            optimizer.zero_grad()\n",
    "\n",
    "            images = images.view(images.shape[0], -1)\n",
    "\n",
    "            output = neural_network.forward(images)\n",
    "            loss = criterion(output, labels)\n",
    "            loss.backward()\n",
    "            optimizer.step()\n",
    "            running_loss += loss.item()\n",
    "        else:\n",
    "            if (e % report_every == 0):\n",
    "                print(f'Epoch {e}/{epochs} Training Loss: {running_loss/len(trainloader)}')\n",
    "    print(f'Epoch {e}/{epochs} Training Loss: {running_loss/len(trainloader)}')"
   ]
  },
  {
   "cell_type": "code",
   "execution_count": 22,
   "metadata": {},
   "outputs": [],
   "source": [
    "def save_model_state(model, file):\n",
    "    torch.save(model.state_dict(), file)"
   ]
  },
  {
   "cell_type": "code",
   "execution_count": 41,
   "metadata": {},
   "outputs": [
    {
     "name": "stdout",
     "output_type": "stream",
     "text": [
      "hello\n"
     ]
    }
   ],
   "source": [
    "TRAIN = False\n",
    "\n",
    "if TRAIN:\n",
    "    train(network, 50, trainloader)\n",
    "    save_model_state(network, './model.pth')"
   ]
  },
  {
   "cell_type": "code",
   "execution_count": 42,
   "metadata": {},
   "outputs": [],
   "source": [
    "def load_state(file):\n",
    "    return torch.load(file)"
   ]
  },
  {
   "cell_type": "code",
   "execution_count": 43,
   "metadata": {},
   "outputs": [
    {
     "data": {
      "text/plain": [
       "<All keys matched successfully>"
      ]
     },
     "execution_count": 43,
     "metadata": {},
     "output_type": "execute_result"
    }
   ],
   "source": [
    "network.load_state_dict(load_state('./model.pth'))"
   ]
  },
  {
   "cell_type": "code",
   "execution_count": 44,
   "metadata": {},
   "outputs": [],
   "source": [
    "def test(neural_network, loader):\n",
    "    test_loss = 0.0\n",
    "    numerals_correct = list(0. for i in range(10))\n",
    "    numerals_total = list(0. for i in range(10))\n",
    "    \n",
    "    neural_network.eval()\n",
    "    for images, label in loader:\n",
    "        images = images.view(images.shape[0], -1)\n",
    "        \n",
    "        output = neural_network.forward(images)\n",
    "        loss = criterion(output, label)\n",
    "        \n",
    "        test_loss += loss.item() * images.size(0)\n",
    "        \n",
    "        _, pred = torch.max(output, 1)\n",
    "        correct_tensor = pred.eq(label.data.view_as(pred))\n",
    "        correct = np.squeeze(correct_tensor.numpy())\n",
    "        \n",
    "        for i in range(label.size()[0]):\n",
    "            numeral = label.data[i]\n",
    "            numerals_correct[numeral] += correct[i].item()\n",
    "            numerals_total[numeral] += 1\n",
    "        \n",
    "    test_loss = test_loss / len(loader.dataset)\n",
    "    print('Test Loss: %.6f\\n' % test_loss)\n",
    "    \n",
    "    for i in range(10):\n",
    "        if numerals_total[i] > 0:\n",
    "            print('Test Accuracy of %d: %d%% (%2d/%2d)' % (i,\n",
    "                                                           100 * (numerals_correct[i] / numerals_total[i]),\n",
    "                                                           np.sum(numerals_correct[i]),\n",
    "                                                           np.sum(numerals_total[i])))\n",
    "        else:\n",
    "            print('Test Accuracy of %d: 0%' % i)\n",
    "    print('\\nTest Accuracy (Overall): %d%% ( %2d/%2d )' % (100. * np.sum(numerals_correct) / np.sum(numerals_total),\n",
    "                                                         np.sum(numerals_correct),\n",
    "                                                         np.sum(numerals_total)))"
   ]
  },
  {
   "cell_type": "code",
   "execution_count": 45,
   "metadata": {},
   "outputs": [],
   "source": [
    "import matplotlib.pyplot as plt\n",
    "\n",
    "def imshow(image, ax=None):\n",
    "    if ax is None:\n",
    "        fig, ax = plt.subplots()\n",
    "    \n",
    "    ax.imshow(image.resize_(1, 28, 28).numpy().squeeze(), cmap='gray')\n",
    "    ax.axis('off')\n",
    "    \n",
    "    return ax\n",
    "\n",
    "def show_im_probabilities(image, probabilities):\n",
    "    probabilities = probabilities.numpy().squeeze()\n",
    "    \n",
    "    fig, (ax1, ax2) = plt.subplots(ncols=2)\n",
    "    \n",
    "    imshow(image, ax1)\n",
    "    \n",
    "    ax2.barh(np.arange(10), probabilities)\n",
    "    ax2.set_aspect(0.1)\n",
    "    ax2.set_yticks(np.arange(10))\n",
    "    ax2.set_yticklabels(np.arange(10))\n",
    "    ax2.set_title('Numeral Probability')\n",
    "    ax2.set_xlim(0, 1.1)\n",
    "    \n",
    "    plt.tight_layout()"
   ]
  },
  {
   "cell_type": "code",
   "execution_count": 46,
   "metadata": {},
   "outputs": [],
   "source": [
    "def present(images, labels, neural_network):\n",
    "    images = images.view(64, -1)\n",
    "    with torch.no_grad():\n",
    "        output = neural_network.forward(images)\n",
    "    \n",
    "    _, pred = torch.max(output, 1)\n",
    "        \n",
    "    fig = plt.figure(1)\n",
    "    \n",
    "    idx = 0\n",
    "    for image, prediction, label in list(zip(images, pred.numpy(), labels.numpy()))[:20]:\n",
    "        ax = fig.add_subplot(4, 5, idx+1, xticks=[], yticks=[])\n",
    "        imshow(image, ax)\n",
    "        ax.set_title(f'P:{prediction} R:{label}', color=(\"green\" if prediction == label else  \"red\"))\n",
    "        idx += 1\n",
    "    \n",
    "    fig.tight_layout()"
   ]
  },
  {
   "cell_type": "code",
   "execution_count": 47,
   "metadata": {},
   "outputs": [
    {
     "name": "stdout",
     "output_type": "stream",
     "text": [
      "Test Loss: 0.124155\n",
      "\n",
      "Test Accuracy of 0: 98% (965/980)\n",
      "Test Accuracy of 1: 98% (1115/1135)\n",
      "Test Accuracy of 2: 96% (996/1032)\n",
      "Test Accuracy of 3: 96% (970/1010)\n",
      "Test Accuracy of 4: 96% (944/982)\n",
      "Test Accuracy of 5: 94% (844/892)\n",
      "Test Accuracy of 6: 96% (928/958)\n",
      "Test Accuracy of 7: 95% (986/1028)\n",
      "Test Accuracy of 8: 95% (928/974)\n",
      "Test Accuracy of 9: 94% (949/1009)\n",
      "\n",
      "Test Accuracy (Overall): 96% ( 9625/10000 )\n"
     ]
    }
   ],
   "source": [
    "test(network, testloader)"
   ]
  },
  {
   "cell_type": "code",
   "execution_count": 48,
   "metadata": {},
   "outputs": [
    {
     "data": {
      "image/png": "[encoded data removed]",
      "text/plain": [
       "<Figure size 432x288 with 20 Axes>"
      ]
     },
     "metadata": {},
     "output_type": "display_data"
    }
   ],
   "source": [
    "images, labels = next(iter(testloader))\n",
    "present(images, labels, network)"
   ]
  },
  {
   "cell_type": "code",
   "execution_count": null,
   "metadata": {},
   "outputs": [],
   "source": []
  }
 ],
 "metadata": {
  "kernelspec": {
   "display_name": "Python 3",
   "language": "python",
   "name": "python3"
  },
  "language_info": {
   "codemirror_mode": {
    "name": "ipython",
    "version": 3
   },
   "file_extension": ".py",
   "mimetype": "text/x-python",
   "name": "python",
   "nbconvert_exporter": "python",
   "pygments_lexer": "ipython3",
   "version": "3.8.3"
  }
 },
 "nbformat": 4,
 "nbformat_minor": 4
}
